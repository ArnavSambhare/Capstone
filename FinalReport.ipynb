{
 "cells": [
  {
   "cell_type": "markdown",
   "metadata": {},
   "source": [
    "# IBM Capstone Project\n",
    "### Arnav Sambhare"
   ]
  },
  {
   "cell_type": "markdown",
   "metadata": {},
   "source": [
    "# Introduction"
   ]
  },
  {
   "cell_type": "markdown",
   "metadata": {},
   "source": [
    "Choosing the location for opening a new restaurant can prove to be a win/loss factor for the owners. The revenue a restaurant makes is highly dependent on its location. In this project, the Foursquare API will be used to find the various trends to optimize the location. The city considered in this project is Toronto."
   ]
  },
  {
   "cell_type": "markdown",
   "metadata": {},
   "source": [
    "# Data\n"
   ]
  },
  {
   "cell_type": "markdown",
   "metadata": {},
   "source": [
    "The Foursquare API will be a main source of data. Using the API, we will get cuisines, nearby restaurants and nearby points of interest.<br>\n",
    "1) If the restaurant has many other restaurants of the same cuisine nearby, then it is a bad idea to open the restaurant there.<br>\n",
    "2) Also the number of nearby restaurants must be low so that people have lesser choices when looking for nearby restaurants. <br>\n",
    "3) With more points of interests(like tourist attractions etc) nearby, there will be more people in the neighborhood and that would mean more customers for us."
   ]
  }
 ],
 "metadata": {
  "kernelspec": {
   "display_name": "Python 3",
   "language": "python",
   "name": "python3"
  },
  "language_info": {
   "codemirror_mode": {
    "name": "ipython",
    "version": 3
   },
   "file_extension": ".py",
   "mimetype": "text/x-python",
   "name": "python",
   "nbconvert_exporter": "python",
   "pygments_lexer": "ipython3",
   "version": "3.6.7"
  }
 },
 "nbformat": 4,
 "nbformat_minor": 2
}
